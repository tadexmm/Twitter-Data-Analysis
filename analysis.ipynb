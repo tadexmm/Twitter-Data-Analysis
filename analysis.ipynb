{
 "cells": [
  {
   "cell_type": "markdown",
   "id": "f133681c",
   "metadata": {},
   "source": [
    "# Interim Report"
   ]
  },
  {
   "cell_type": "markdown",
   "id": "c407c04d",
   "metadata": {},
   "source": [
    "On completing a simple Exploratory Data Analysis (below). I have noted the countries which dominated the conversations around Nancy Pelosi's visit both international and continent-wide"
   ]
  },
  {
   "cell_type": "markdown",
   "id": "0cdd0064",
   "metadata": {},
   "source": [
    "I also noted ..."
   ]
  },
  {
   "cell_type": "markdown",
   "id": "1d9e40d3",
   "metadata": {},
   "source": [
    "# Exploratory Data Analysis"
   ]
  },
  {
   "cell_type": "code",
   "execution_count": 3,
   "id": "1cfbce9f",
   "metadata": {},
   "outputs": [],
   "source": [
    "import pandas as pd\n",
    "from extract_dataframe import read_json\n",
    "from extract_dataframe import TweetDfExtractor\n",
    "from clean_tweets_dataframe import Clean_Tweets\n",
    "\n",
    "#from wordcloud import WordCloud\n",
    "import gensim\n",
    "from gensim import corpora\n",
    "from gensim.models import CoherenceModel\n",
    "from pprint import pprint\n",
    "from matplotlib import pyplot as plt\n",
    "\n",
    "import pyLDAvis.gensim_models as gensimvis\n",
    "import pyLDAvis"
   ]
  },
  {
   "cell_type": "markdown",
   "id": "d509dfc5",
   "metadata": {},
   "source": [
    "## Setting up dataframe"
   ]
  },
  {
   "cell_type": "code",
   "execution_count": null,
   "id": "b19f12ee",
   "metadata": {},
   "outputs": [],
   "source": [
    "_, tweet_data_global = read_json(\"data/global_twitter_data.json\")\n",
    "_, tweet_data_africa = read_json(\"data/africa_twitter_data.json\")\n",
    "tdg = TweetDfExtractor(tweet_data_global)\n",
    "tda = TweetDfExtractor(tweet_data_africa)\n",
    "df_global = tdg.get_tweet_df()\n",
    "df_africa = tda.get_tweet_df()\n",
    "df_global = Clean_Tweets.clean_df(df_global)\n",
    "df_africa = Clean_Tweets.clean_df(df_africa)"
   ]
  },
  {
   "cell_type": "markdown",
   "id": "67130e73",
   "metadata": {},
   "source": [
    "### Global Tweets DataFrame preview"
   ]
  },
  {
   "cell_type": "code",
   "execution_count": null,
   "id": "1d630897",
   "metadata": {},
   "outputs": [],
   "source": [
    "df_global.head()"
   ]
  },
  {
   "cell_type": "code",
   "execution_count": null,
   "id": "ce351e6c",
   "metadata": {
    "scrolled": true
   },
   "outputs": [],
   "source": [
    "df_global.info()"
   ]
  },
  {
   "cell_type": "markdown",
   "id": "56f4a45d",
   "metadata": {},
   "source": [
    "### Africa tweets data frame preview"
   ]
  },
  {
   "cell_type": "code",
   "execution_count": null,
   "id": "9ed8d009",
   "metadata": {},
   "outputs": [],
   "source": [
    "df_africa.head()"
   ]
  },
  {
   "cell_type": "code",
   "execution_count": null,
   "id": "00ff8e93",
   "metadata": {},
   "outputs": [],
   "source": [
    "df_africa.info()"
   ]
  },
  {
   "cell_type": "markdown",
   "id": "62ff918c",
   "metadata": {},
   "source": [
    "## Where are the global twitterati?"
   ]
  },
  {
   "cell_type": "code",
   "execution_count": null,
   "id": "07fb983f",
   "metadata": {},
   "outputs": [],
   "source": [
    "(df_global[\"place_country\"].value_counts())[:10].plot.bar();\n",
    "plt.title(\"Top 10 countries where global tweets are coming from\");\n",
    "plt.xlabel(\"Country\")\n",
    "plt.ylabel(\"Frequency\")"
   ]
  },
  {
   "cell_type": "markdown",
   "id": "72ddc518",
   "metadata": {},
   "source": [
    "Most users discussing Nancy Pelosi's visit to Taiwan are from the USA India and Taiwan. The PR of China also features in the top 10. This makes sense. However the plot above is based on a very small sample size of only ~8% of the tweets."
   ]
  },
  {
   "cell_type": "markdown",
   "id": "aad9fd2d",
   "metadata": {},
   "source": [
    "## Where are the African Twitterati?"
   ]
  },
  {
   "cell_type": "code",
   "execution_count": null,
   "id": "794750c8",
   "metadata": {},
   "outputs": [],
   "source": [
    "(df_africa[\"place_country\"].value_counts())[:10].plot.bar();\n",
    "plt.title(\"Top 10 countries where global tweets are coming from\");\n",
    "plt.xlabel(\"Country\")\n",
    "plt.ylabel(\"Frequency\")"
   ]
  },
  {
   "cell_type": "markdown",
   "id": "c26ba59e",
   "metadata": {},
   "source": [
    "An overwhelming majority of the place-tagged tweets in the African data set came from Nigeria. This is interesting, and surprising, but I cannot tell why this might be the case"
   ]
  },
  {
   "cell_type": "markdown",
   "id": "4d1b2855",
   "metadata": {},
   "source": [
    "## How big is the audience?"
   ]
  },
  {
   "cell_type": "code",
   "execution_count": null,
   "id": "ee82c496",
   "metadata": {},
   "outputs": [],
   "source": [
    "df_global[\"followers_count\"].plot(kind=\"line\")"
   ]
  },
  {
   "cell_type": "markdown",
   "id": "7533a890",
   "metadata": {},
   "source": [
    "Many of the accounts tweeting have more than 2 million followers corresponding with large various news networks all over the globe discussing the topic"
   ]
  },
  {
   "cell_type": "code",
   "execution_count": null,
   "id": "804ee45b",
   "metadata": {},
   "outputs": [],
   "source": [
    "df_africa[\"followers_count\"].plot(kind=\"line\")"
   ]
  },
  {
   "cell_type": "markdown",
   "id": "efe0b0b8",
   "metadata": {},
   "source": [
    "Many lines visibly repeat at exactly the same numbers suggesting about there were few big participants actively dominating the discussion"
   ]
  },
  {
   "cell_type": "markdown",
   "id": "0c949329",
   "metadata": {},
   "source": [
    "## Preparing data for modeling"
   ]
  },
  {
   "cell_type": "code",
   "execution_count": null,
   "id": "a4d7f73b",
   "metadata": {},
   "outputs": [],
   "source": [
    "sentence_list = [tweet for tweet in df_global[\"clean_text\"]]\n",
    "word_list = [s.split() for s in sentence_list]\n",
    "id2word = corpora.Dictionary(word_list)\n",
    "corpus = [word_to_id.doc2bow(tweet) for tweet in word_list]\n",
    "\n",
    "id_words = [[(id2word[id], count) for id, count in line] for line in corpus]"
   ]
  },
  {
   "cell_type": "code",
   "execution_count": null,
   "id": "65d93962",
   "metadata": {},
   "outputs": [],
   "source": [
    "print(id_words[:1])"
   ]
  },
  {
   "cell_type": "markdown",
   "id": "a305b1dc",
   "metadata": {},
   "source": [
    "## Topic Modelling"
   ]
  },
  {
   "cell_type": "code",
   "execution_count": null,
   "id": "2829069d",
   "metadata": {},
   "outputs": [],
   "source": [
    "# Build model\n",
    "lda_model = gensim.models.ldamodel.LdaModel(\n",
    "    corpus,\n",
    "    id2word = id2word,\n",
    "    num_topics = 5,\n",
    "    random_state = 43,\n",
    "    update_every = 1,\n",
    "    chunksize = 100,\n",
    "    passes = 10,\n",
    "    alpha = 'auto',\n",
    "    per_word_topics = True\n",
    ")"
   ]
  },
  {
   "cell_type": "code",
   "execution_count": null,
   "id": "22baefbe",
   "metadata": {},
   "outputs": [],
   "source": [
    "pprint(lda_model.print_topics())"
   ]
  },
  {
   "cell_type": "markdown",
   "id": "81ee2270",
   "metadata": {},
   "source": [
    "## Model Analysis"
   ]
  },
  {
   "cell_type": "code",
   "execution_count": null,
   "id": "4f2a0fd6",
   "metadata": {},
   "outputs": [],
   "source": [
    "# Compute Perplexity\n",
    "\n",
    "#It's a measure of how good the model is. The lower the better. Perplexity is a negative value\n",
    "print('\\nPerplexity: ', lda_model.log_perplexity(corpus))  \n",
    "doc_lda = lda_model[corpus]\n",
    "\n",
    "\n",
    "# Compute Coherence Score\n",
    "coherence_model_lda = CoherenceModel(model=lda_model, texts=word_list, dictionary=id2word, coherence='c_v')\n",
    "coherence_lda = coherence_model_lda.get_coherence()\n",
    "print('\\n Ldamodel Coherence Score/Accuracy on Tweets: ', coherence_lda)"
   ]
  },
  {
   "cell_type": "markdown",
   "id": "a57a6007",
   "metadata": {},
   "source": [
    "Low coherence score, suggesting that the model has not performed well in topic modelling"
   ]
  },
  {
   "cell_type": "markdown",
   "id": "e464bf17",
   "metadata": {},
   "source": [
    "## Sentiment analysis"
   ]
  },
  {
   "cell_type": "code",
   "execution_count": null,
   "id": "63375022",
   "metadata": {},
   "outputs": [],
   "source": []
  },
  {
   "cell_type": "code",
   "execution_count": null,
   "id": "a5e6c50e",
   "metadata": {},
   "outputs": [],
   "source": []
  },
  {
   "cell_type": "code",
   "execution_count": null,
   "id": "51791f69",
   "metadata": {},
   "outputs": [],
   "source": []
  }
 ],
 "metadata": {
  "kernelspec": {
   "display_name": "Python 3 (ipykernel)",
   "language": "python",
   "name": "python3"
  },
  "language_info": {
   "codemirror_mode": {
    "name": "ipython",
    "version": 3
   },
   "file_extension": ".py",
   "mimetype": "text/x-python",
   "name": "python",
   "nbconvert_exporter": "python",
   "pygments_lexer": "ipython3",
   "version": "3.9.12"
  }
 },
 "nbformat": 4,
 "nbformat_minor": 5
}
