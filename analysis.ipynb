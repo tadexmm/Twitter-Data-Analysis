{
 "cells": [
  {
   "cell_type": "markdown",
   "id": "f133681c",
   "metadata": {},
   "source": [
    "# Interim Report"
   ]
  },
  {
   "cell_type": "markdown",
   "id": "c407c04d",
   "metadata": {},
   "source": [
    "On completing a simple Exploratory Data Analysis (below). I have noted the countries which dominated the conversations around Nancy Pelosi's visit both international and continent-wide"
   ]
  },
  {
   "cell_type": "markdown",
   "id": "0cdd0064",
   "metadata": {},
   "source": [
    "I also noted ..."
   ]
  },
  {
   "cell_type": "markdown",
   "id": "1d9e40d3",
   "metadata": {},
   "source": [
    "# Exploratory Data Analysis"
   ]
  },
  {
   "cell_type": "code",
   "execution_count": 1,
   "id": "1cfbce9f",
   "metadata": {},
   "outputs": [],
   "source": [
    "import pandas as pd\n",
    "from extract_dataframe import read_json\n",
    "from extract_dataframe import TweetDfExtractor\n",
    "from clean_tweets_dataframe import Clean_Tweets\n",
    "\n",
    "#from wordcloud import WordCloud\n",
    "import gensim\n",
    "from gensim import corpora\n",
    "from gensim.models import CoherenceModel\n",
    "from pprint import pprint\n",
    "from matplotlib import pyplot as plt\n",
    "\n",
    "import pyLDAvis.gensim_models as gensimvis\n",
    "import pyLDAvis"
   ]
  },
  {
   "cell_type": "markdown",
   "id": "d509dfc5",
   "metadata": {},
   "source": [
    "## Setting up dataframe"
   ]
  },
  {
   "cell_type": "code",
   "execution_count": 2,
   "id": "b19f12ee",
   "metadata": {},
   "outputs": [
    {
     "name": "stdout",
     "output_type": "stream",
     "text": [
      "Automation in Action...!!!\n"
     ]
    },
    {
     "name": "stderr",
     "output_type": "stream",
     "text": [
      "C:\\Users\\Tadex\\Documents\\10academy\\Week0\\Twitter-Data-Analysis\\clean_tweets_dataframe.py:69: FutureWarning: The default value of regex will change from True to False in a future version.\n",
      "  df[\"original_text\"] = df[\"original_text\"].str.replace(\"^RT\", \"\")\n",
      "C:\\Users\\Tadex\\Documents\\10academy\\Week0\\Twitter-Data-Analysis\\clean_tweets_dataframe.py:70: FutureWarning: The default value of regex will change from True to False in a future version.\n",
      "  df[\"clean_text\"] = df[\"clean_text\"].str.replace(\"^rt\", \"\")\n"
     ]
    },
    {
     "name": "stdout",
     "output_type": "stream",
     "text": [
      "Automation in Action...!!!\n"
     ]
    },
    {
     "name": "stderr",
     "output_type": "stream",
     "text": [
      "C:\\Users\\Tadex\\Documents\\10academy\\Week0\\Twitter-Data-Analysis\\clean_tweets_dataframe.py:69: FutureWarning: The default value of regex will change from True to False in a future version.\n",
      "  df[\"original_text\"] = df[\"original_text\"].str.replace(\"^RT\", \"\")\n",
      "C:\\Users\\Tadex\\Documents\\10academy\\Week0\\Twitter-Data-Analysis\\clean_tweets_dataframe.py:70: FutureWarning: The default value of regex will change from True to False in a future version.\n",
      "  df[\"clean_text\"] = df[\"clean_text\"].str.replace(\"^rt\", \"\")\n"
     ]
    }
   ],
   "source": [
    "_, tweet_data_global = read_json(\"data/global_twitter_data.json\")\n",
    "_, tweet_data_africa = read_json(\"data/africa_twitter_data.json\")\n",
    "tdg = TweetDfExtractor(tweet_data_global)\n",
    "tda = TweetDfExtractor(tweet_data_africa)\n",
    "df_global = tdg.get_tweet_df()\n",
    "df_africa = tda.get_tweet_df()\n",
    "df_global = Clean_Tweets.clean_df(df_global)\n",
    "df_africa = Clean_Tweets.clean_df(df_africa)"
   ]
  },
  {
   "cell_type": "markdown",
   "id": "67130e73",
   "metadata": {},
   "source": [
    "### Global Tweets DataFrame preview"
   ]
  },
  {
   "cell_type": "code",
   "execution_count": 3,
   "id": "1d630897",
   "metadata": {},
   "outputs": [
    {
     "data": {
      "text/html": [
       "<div>\n",
       "<style scoped>\n",
       "    .dataframe tbody tr th:only-of-type {\n",
       "        vertical-align: middle;\n",
       "    }\n",
       "\n",
       "    .dataframe tbody tr th {\n",
       "        vertical-align: top;\n",
       "    }\n",
       "\n",
       "    .dataframe thead th {\n",
       "        text-align: right;\n",
       "    }\n",
       "</style>\n",
       "<table border=\"1\" class=\"dataframe\">\n",
       "  <thead>\n",
       "    <tr style=\"text-align: right;\">\n",
       "      <th></th>\n",
       "      <th>created_at</th>\n",
       "      <th>source</th>\n",
       "      <th>original_text</th>\n",
       "      <th>clean_text</th>\n",
       "      <th>sentiment</th>\n",
       "      <th>polarity</th>\n",
       "      <th>subjectivity</th>\n",
       "      <th>lang</th>\n",
       "      <th>favorite_count</th>\n",
       "      <th>retweet_count</th>\n",
       "      <th>...</th>\n",
       "      <th>user_location</th>\n",
       "      <th>screen_count</th>\n",
       "      <th>followers_count</th>\n",
       "      <th>friends_count</th>\n",
       "      <th>possibly_sensitive</th>\n",
       "      <th>hashtags</th>\n",
       "      <th>user_mentions</th>\n",
       "      <th>place</th>\n",
       "      <th>place_coord_boundaries</th>\n",
       "      <th>place_country</th>\n",
       "    </tr>\n",
       "  </thead>\n",
       "  <tbody>\n",
       "    <tr>\n",
       "      <th>0</th>\n",
       "      <td>2022-08-07 22:31:20+00:00</td>\n",
       "      <td>Twitter for Android</td>\n",
       "      <td>@i_ameztoy: Extra random image (I):\\n\\nLets f...</td>\n",
       "      <td>extra random image ilets focus in one very ...</td>\n",
       "      <td>(-0.125, 0.190625)</td>\n",
       "      <td>-1.250000e-01</td>\n",
       "      <td>0.190625</td>\n",
       "      <td>en</td>\n",
       "      <td>0</td>\n",
       "      <td>2</td>\n",
       "      <td>...</td>\n",
       "      <td>None</td>\n",
       "      <td>232</td>\n",
       "      <td>20497</td>\n",
       "      <td>2621</td>\n",
       "      <td>None</td>\n",
       "      <td>City</td>\n",
       "      <td>1</td>\n",
       "      <td>None</td>\n",
       "      <td>None</td>\n",
       "      <td>None</td>\n",
       "    </tr>\n",
       "    <tr>\n",
       "      <th>1</th>\n",
       "      <td>2022-08-07 22:31:16+00:00</td>\n",
       "      <td>Twitter for Android</td>\n",
       "      <td>@IndoPac_Info: #China's media explains the mi...</td>\n",
       "      <td>chinas media explains the military reasons ...</td>\n",
       "      <td>(-0.1, 0.1)</td>\n",
       "      <td>-1.000000e-01</td>\n",
       "      <td>0.100000</td>\n",
       "      <td>en</td>\n",
       "      <td>0</td>\n",
       "      <td>201</td>\n",
       "      <td>...</td>\n",
       "      <td>None</td>\n",
       "      <td>3</td>\n",
       "      <td>65</td>\n",
       "      <td>272</td>\n",
       "      <td>None</td>\n",
       "      <td>China Taiwan</td>\n",
       "      <td>1</td>\n",
       "      <td>None</td>\n",
       "      <td>None</td>\n",
       "      <td>None</td>\n",
       "    </tr>\n",
       "    <tr>\n",
       "      <th>2</th>\n",
       "      <td>2022-08-07 22:31:07+00:00</td>\n",
       "      <td>Twitter for Android</td>\n",
       "      <td>China even cut off communication, they don't a...</td>\n",
       "      <td>china even cut off communication they dont anw...</td>\n",
       "      <td>(0.0, 0.0)</td>\n",
       "      <td>0.000000e+00</td>\n",
       "      <td>0.000000</td>\n",
       "      <td>en</td>\n",
       "      <td>0</td>\n",
       "      <td>0</td>\n",
       "      <td>...</td>\n",
       "      <td>Netherlands</td>\n",
       "      <td>0</td>\n",
       "      <td>85</td>\n",
       "      <td>392</td>\n",
       "      <td>None</td>\n",
       "      <td>XiJinping</td>\n",
       "      <td>1</td>\n",
       "      <td>None</td>\n",
       "      <td>None</td>\n",
       "      <td>None</td>\n",
       "    </tr>\n",
       "    <tr>\n",
       "      <th>3</th>\n",
       "      <td>2022-08-07 22:31:06+00:00</td>\n",
       "      <td>Twitter for Android</td>\n",
       "      <td>Putin to #XiJinping : I told you my friend, Ta...</td>\n",
       "      <td>putin to xijinping  i told you my friend taiwa...</td>\n",
       "      <td>(0.1, 0.35)</td>\n",
       "      <td>1.000000e-01</td>\n",
       "      <td>0.350000</td>\n",
       "      <td>en</td>\n",
       "      <td>0</td>\n",
       "      <td>0</td>\n",
       "      <td>...</td>\n",
       "      <td>Netherlands</td>\n",
       "      <td>0</td>\n",
       "      <td>85</td>\n",
       "      <td>392</td>\n",
       "      <td>None</td>\n",
       "      <td>XiJinping</td>\n",
       "      <td>0</td>\n",
       "      <td>None</td>\n",
       "      <td>None</td>\n",
       "      <td>None</td>\n",
       "    </tr>\n",
       "    <tr>\n",
       "      <th>4</th>\n",
       "      <td>2022-08-07 22:31:04+00:00</td>\n",
       "      <td>Twitter for iPhone</td>\n",
       "      <td>@ChinaUncensored: I’m sorry, I thought Taiwan...</td>\n",
       "      <td>i’m sorry i thought taiwan was an independe...</td>\n",
       "      <td>(-6.938893903907228e-18, 0.55625)</td>\n",
       "      <td>-6.938894e-18</td>\n",
       "      <td>0.556250</td>\n",
       "      <td>en</td>\n",
       "      <td>0</td>\n",
       "      <td>381</td>\n",
       "      <td>...</td>\n",
       "      <td>Ayent, Schweiz</td>\n",
       "      <td>0</td>\n",
       "      <td>910</td>\n",
       "      <td>2608</td>\n",
       "      <td>None</td>\n",
       "      <td></td>\n",
       "      <td>1</td>\n",
       "      <td>None</td>\n",
       "      <td>None</td>\n",
       "      <td>None</td>\n",
       "    </tr>\n",
       "  </tbody>\n",
       "</table>\n",
       "<p>5 rows × 21 columns</p>\n",
       "</div>"
      ],
      "text/plain": [
       "                 created_at               source  \\\n",
       "0 2022-08-07 22:31:20+00:00  Twitter for Android   \n",
       "1 2022-08-07 22:31:16+00:00  Twitter for Android   \n",
       "2 2022-08-07 22:31:07+00:00  Twitter for Android   \n",
       "3 2022-08-07 22:31:06+00:00  Twitter for Android   \n",
       "4 2022-08-07 22:31:04+00:00   Twitter for iPhone   \n",
       "\n",
       "                                       original_text  \\\n",
       "0   @i_ameztoy: Extra random image (I):\\n\\nLets f...   \n",
       "1   @IndoPac_Info: #China's media explains the mi...   \n",
       "2  China even cut off communication, they don't a...   \n",
       "3  Putin to #XiJinping : I told you my friend, Ta...   \n",
       "4   @ChinaUncensored: I’m sorry, I thought Taiwan...   \n",
       "\n",
       "                                          clean_text  \\\n",
       "0     extra random image ilets focus in one very ...   \n",
       "1     chinas media explains the military reasons ...   \n",
       "2  china even cut off communication they dont anw...   \n",
       "3  putin to xijinping  i told you my friend taiwa...   \n",
       "4     i’m sorry i thought taiwan was an independe...   \n",
       "\n",
       "                           sentiment      polarity  subjectivity lang  \\\n",
       "0                 (-0.125, 0.190625) -1.250000e-01      0.190625   en   \n",
       "1                        (-0.1, 0.1) -1.000000e-01      0.100000   en   \n",
       "2                         (0.0, 0.0)  0.000000e+00      0.000000   en   \n",
       "3                        (0.1, 0.35)  1.000000e-01      0.350000   en   \n",
       "4  (-6.938893903907228e-18, 0.55625) -6.938894e-18      0.556250   en   \n",
       "\n",
       "   favorite_count  retweet_count  ...   user_location screen_count  \\\n",
       "0               0              2  ...            None          232   \n",
       "1               0            201  ...            None            3   \n",
       "2               0              0  ...     Netherlands            0   \n",
       "3               0              0  ...     Netherlands            0   \n",
       "4               0            381  ...  Ayent, Schweiz            0   \n",
       "\n",
       "   followers_count  friends_count  possibly_sensitive      hashtags  \\\n",
       "0            20497           2621                None          City   \n",
       "1               65            272                None  China Taiwan   \n",
       "2               85            392                None     XiJinping   \n",
       "3               85            392                None     XiJinping   \n",
       "4              910           2608                None                 \n",
       "\n",
       "  user_mentions  place place_coord_boundaries place_country  \n",
       "0             1   None                   None          None  \n",
       "1             1   None                   None          None  \n",
       "2             1   None                   None          None  \n",
       "3             0   None                   None          None  \n",
       "4             1   None                   None          None  \n",
       "\n",
       "[5 rows x 21 columns]"
      ]
     },
     "execution_count": 3,
     "metadata": {},
     "output_type": "execute_result"
    }
   ],
   "source": [
    "df_global.head()"
   ]
  },
  {
   "cell_type": "code",
   "execution_count": 4,
   "id": "ce351e6c",
   "metadata": {
    "scrolled": true
   },
   "outputs": [
    {
     "name": "stdout",
     "output_type": "stream",
     "text": [
      "<class 'pandas.core.frame.DataFrame'>\n",
      "Int64Index: 22000 entries, 0 to 21999\n",
      "Data columns (total 21 columns):\n",
      " #   Column                  Non-Null Count  Dtype              \n",
      "---  ------                  --------------  -----              \n",
      " 0   created_at              22000 non-null  datetime64[ns, UTC]\n",
      " 1   source                  22000 non-null  object             \n",
      " 2   original_text           22000 non-null  object             \n",
      " 3   clean_text              22000 non-null  object             \n",
      " 4   sentiment               22000 non-null  object             \n",
      " 5   polarity                22000 non-null  float64            \n",
      " 6   subjectivity            22000 non-null  float64            \n",
      " 7   lang                    22000 non-null  object             \n",
      " 8   favorite_count          22000 non-null  int64              \n",
      " 9   retweet_count           22000 non-null  int32              \n",
      " 10  original_author         22000 non-null  object             \n",
      " 11  user_location           12106 non-null  object             \n",
      " 12  screen_count            22000 non-null  int64              \n",
      " 13  followers_count         22000 non-null  int32              \n",
      " 14  friends_count           22000 non-null  int32              \n",
      " 15  possibly_sensitive      6191 non-null   object             \n",
      " 16  hashtags                22000 non-null  object             \n",
      " 17  user_mentions           22000 non-null  int32              \n",
      " 18  place                   117 non-null    object             \n",
      " 19  place_coord_boundaries  117 non-null    object             \n",
      " 20  place_country           117 non-null    object             \n",
      "dtypes: datetime64[ns, UTC](1), float64(2), int32(4), int64(2), object(12)\n",
      "memory usage: 3.4+ MB\n"
     ]
    }
   ],
   "source": [
    "df_global.info()"
   ]
  },
  {
   "cell_type": "markdown",
   "id": "56f4a45d",
   "metadata": {},
   "source": [
    "### Africa tweets data frame preview"
   ]
  },
  {
   "cell_type": "code",
   "execution_count": 5,
   "id": "9ed8d009",
   "metadata": {},
   "outputs": [
    {
     "data": {
      "text/html": [
       "<div>\n",
       "<style scoped>\n",
       "    .dataframe tbody tr th:only-of-type {\n",
       "        vertical-align: middle;\n",
       "    }\n",
       "\n",
       "    .dataframe tbody tr th {\n",
       "        vertical-align: top;\n",
       "    }\n",
       "\n",
       "    .dataframe thead th {\n",
       "        text-align: right;\n",
       "    }\n",
       "</style>\n",
       "<table border=\"1\" class=\"dataframe\">\n",
       "  <thead>\n",
       "    <tr style=\"text-align: right;\">\n",
       "      <th></th>\n",
       "      <th>created_at</th>\n",
       "      <th>source</th>\n",
       "      <th>original_text</th>\n",
       "      <th>clean_text</th>\n",
       "      <th>sentiment</th>\n",
       "      <th>polarity</th>\n",
       "      <th>subjectivity</th>\n",
       "      <th>lang</th>\n",
       "      <th>favorite_count</th>\n",
       "      <th>retweet_count</th>\n",
       "      <th>...</th>\n",
       "      <th>user_location</th>\n",
       "      <th>screen_count</th>\n",
       "      <th>followers_count</th>\n",
       "      <th>friends_count</th>\n",
       "      <th>possibly_sensitive</th>\n",
       "      <th>hashtags</th>\n",
       "      <th>user_mentions</th>\n",
       "      <th>place</th>\n",
       "      <th>place_coord_boundaries</th>\n",
       "      <th>place_country</th>\n",
       "    </tr>\n",
       "  </thead>\n",
       "  <tbody>\n",
       "    <tr>\n",
       "      <th>0</th>\n",
       "      <td>2022-08-03 20:19:13+00:00</td>\n",
       "      <td>Twitter for Android</td>\n",
       "      <td>#Pelosi airplane landed safely in #Taiwan 🇹🇼  ...</td>\n",
       "      <td>pelosi airplane landed safely in taiwan   1  b...</td>\n",
       "      <td>(0.3, 0.20357142857142857)</td>\n",
       "      <td>0.300000</td>\n",
       "      <td>0.203571</td>\n",
       "      <td>en</td>\n",
       "      <td>0</td>\n",
       "      <td>0</td>\n",
       "      <td>...</td>\n",
       "      <td>Algérie</td>\n",
       "      <td>0</td>\n",
       "      <td>318</td>\n",
       "      <td>373</td>\n",
       "      <td>None</td>\n",
       "      <td>Pelosi Taiwan NATO 5G</td>\n",
       "      <td>0</td>\n",
       "      <td>None</td>\n",
       "      <td>None</td>\n",
       "      <td>None</td>\n",
       "    </tr>\n",
       "    <tr>\n",
       "      <th>1</th>\n",
       "      <td>2022-08-02 15:24:42+00:00</td>\n",
       "      <td>Twitter Web App</td>\n",
       "      <td>Watch the video of the beginning of the Chines...</td>\n",
       "      <td>watch the video of the beginning of the chines...</td>\n",
       "      <td>(0.0, 0.0)</td>\n",
       "      <td>0.000000</td>\n",
       "      <td>0.000000</td>\n",
       "      <td>en</td>\n",
       "      <td>3</td>\n",
       "      <td>0</td>\n",
       "      <td>...</td>\n",
       "      <td>None</td>\n",
       "      <td>3</td>\n",
       "      <td>764</td>\n",
       "      <td>144</td>\n",
       "      <td>False</td>\n",
       "      <td>Pelosi マツコの知らない世界 Yediiklim BadDecisionsTraile...</td>\n",
       "      <td>0</td>\n",
       "      <td>None</td>\n",
       "      <td>None</td>\n",
       "      <td>None</td>\n",
       "    </tr>\n",
       "    <tr>\n",
       "      <th>2</th>\n",
       "      <td>2022-08-02 15:02:35+00:00</td>\n",
       "      <td>Twitter for Android</td>\n",
       "      <td>#Pelosi \\n#Taipei \\n#taiwan\\n#XiJinping \\n#Chi...</td>\n",
       "      <td>pelosi taipei taiwanxijinping china on a verge...</td>\n",
       "      <td>(0.0, 0.0)</td>\n",
       "      <td>0.000000</td>\n",
       "      <td>0.000000</td>\n",
       "      <td>en</td>\n",
       "      <td>2</td>\n",
       "      <td>0</td>\n",
       "      <td>...</td>\n",
       "      <td>Algérie</td>\n",
       "      <td>0</td>\n",
       "      <td>64</td>\n",
       "      <td>47</td>\n",
       "      <td>False</td>\n",
       "      <td>Pelosi Taipei taiwan XiJinping China</td>\n",
       "      <td>0</td>\n",
       "      <td>None</td>\n",
       "      <td>None</td>\n",
       "      <td>None</td>\n",
       "    </tr>\n",
       "    <tr>\n",
       "      <th>3</th>\n",
       "      <td>2022-08-01 13:51:42+00:00</td>\n",
       "      <td>Twitter for Android</td>\n",
       "      <td>#HOBIPALOOZA #LaAcademiaExpulsion #WEURO2022 #...</td>\n",
       "      <td>hobipalooza laacademiaexpulsion weuro2022 jhop...</td>\n",
       "      <td>(0.4333333333333333, 0.7333333333333333)</td>\n",
       "      <td>0.433333</td>\n",
       "      <td>0.733333</td>\n",
       "      <td>en</td>\n",
       "      <td>0</td>\n",
       "      <td>0</td>\n",
       "      <td>...</td>\n",
       "      <td>Chlef</td>\n",
       "      <td>0</td>\n",
       "      <td>60</td>\n",
       "      <td>463</td>\n",
       "      <td>False</td>\n",
       "      <td>HOBIPALOOZA LaAcademiaExpulsion WEURO2022 jhop...</td>\n",
       "      <td>0</td>\n",
       "      <td>Algeria</td>\n",
       "      <td>[[[-8.670788, 18.9444411], [11.9993345, 18.944...</td>\n",
       "      <td>Algeria</td>\n",
       "    </tr>\n",
       "    <tr>\n",
       "      <th>4</th>\n",
       "      <td>2022-07-31 20:02:20+00:00</td>\n",
       "      <td>Twitter for Android</td>\n",
       "      <td>#Pelosi\\n#china\\nChina Time ✌️ https://t.co/tE...</td>\n",
       "      <td>pelosichinachina time ✌️ httpstcotedjztlszu</td>\n",
       "      <td>(0.0, 0.0)</td>\n",
       "      <td>0.000000</td>\n",
       "      <td>0.000000</td>\n",
       "      <td>en</td>\n",
       "      <td>2</td>\n",
       "      <td>0</td>\n",
       "      <td>...</td>\n",
       "      <td>Algérie</td>\n",
       "      <td>0</td>\n",
       "      <td>39</td>\n",
       "      <td>206</td>\n",
       "      <td>False</td>\n",
       "      <td>Pelosi china</td>\n",
       "      <td>0</td>\n",
       "      <td>None</td>\n",
       "      <td>None</td>\n",
       "      <td>None</td>\n",
       "    </tr>\n",
       "  </tbody>\n",
       "</table>\n",
       "<p>5 rows × 21 columns</p>\n",
       "</div>"
      ],
      "text/plain": [
       "                 created_at               source  \\\n",
       "0 2022-08-03 20:19:13+00:00  Twitter for Android   \n",
       "1 2022-08-02 15:24:42+00:00      Twitter Web App   \n",
       "2 2022-08-02 15:02:35+00:00  Twitter for Android   \n",
       "3 2022-08-01 13:51:42+00:00  Twitter for Android   \n",
       "4 2022-07-31 20:02:20+00:00  Twitter for Android   \n",
       "\n",
       "                                       original_text  \\\n",
       "0  #Pelosi airplane landed safely in #Taiwan 🇹🇼  ...   \n",
       "1  Watch the video of the beginning of the Chines...   \n",
       "2  #Pelosi \\n#Taipei \\n#taiwan\\n#XiJinping \\n#Chi...   \n",
       "3  #HOBIPALOOZA #LaAcademiaExpulsion #WEURO2022 #...   \n",
       "4  #Pelosi\\n#china\\nChina Time ✌️ https://t.co/tE...   \n",
       "\n",
       "                                          clean_text  \\\n",
       "0  pelosi airplane landed safely in taiwan   1  b...   \n",
       "1  watch the video of the beginning of the chines...   \n",
       "2  pelosi taipei taiwanxijinping china on a verge...   \n",
       "3  hobipalooza laacademiaexpulsion weuro2022 jhop...   \n",
       "4        pelosichinachina time ✌️ httpstcotedjztlszu   \n",
       "\n",
       "                                  sentiment  polarity  subjectivity lang  \\\n",
       "0                (0.3, 0.20357142857142857)  0.300000      0.203571   en   \n",
       "1                                (0.0, 0.0)  0.000000      0.000000   en   \n",
       "2                                (0.0, 0.0)  0.000000      0.000000   en   \n",
       "3  (0.4333333333333333, 0.7333333333333333)  0.433333      0.733333   en   \n",
       "4                                (0.0, 0.0)  0.000000      0.000000   en   \n",
       "\n",
       "   favorite_count  retweet_count  ...                   user_location  \\\n",
       "0               0              0  ...                         Algérie   \n",
       "1               3              0  ...                            None   \n",
       "2               2              0  ...                         Algérie   \n",
       "3               0              0  ...  Chlef                            \n",
       "4               2              0  ...                         Algérie   \n",
       "\n",
       "  screen_count  followers_count  friends_count  possibly_sensitive  \\\n",
       "0            0              318            373                None   \n",
       "1            3              764            144               False   \n",
       "2            0               64             47               False   \n",
       "3            0               60            463               False   \n",
       "4            0               39            206               False   \n",
       "\n",
       "                                            hashtags user_mentions    place  \\\n",
       "0                              Pelosi Taiwan NATO 5G             0     None   \n",
       "1  Pelosi マツコの知らない世界 Yediiklim BadDecisionsTraile...             0     None   \n",
       "2               Pelosi Taipei taiwan XiJinping China             0     None   \n",
       "3  HOBIPALOOZA LaAcademiaExpulsion WEURO2022 jhop...             0  Algeria   \n",
       "4                                       Pelosi china             0     None   \n",
       "\n",
       "                              place_coord_boundaries place_country  \n",
       "0                                               None          None  \n",
       "1                                               None          None  \n",
       "2                                               None          None  \n",
       "3  [[[-8.670788, 18.9444411], [11.9993345, 18.944...       Algeria  \n",
       "4                                               None          None  \n",
       "\n",
       "[5 rows x 21 columns]"
      ]
     },
     "execution_count": 5,
     "metadata": {},
     "output_type": "execute_result"
    }
   ],
   "source": [
    "df_africa.head()"
   ]
  },
  {
   "cell_type": "code",
   "execution_count": 6,
   "id": "00ff8e93",
   "metadata": {},
   "outputs": [
    {
     "name": "stdout",
     "output_type": "stream",
     "text": [
      "<class 'pandas.core.frame.DataFrame'>\n",
      "Int64Index: 28608 entries, 0 to 28607\n",
      "Data columns (total 21 columns):\n",
      " #   Column                  Non-Null Count  Dtype              \n",
      "---  ------                  --------------  -----              \n",
      " 0   created_at              28608 non-null  datetime64[ns, UTC]\n",
      " 1   source                  28608 non-null  object             \n",
      " 2   original_text           28608 non-null  object             \n",
      " 3   clean_text              28608 non-null  object             \n",
      " 4   sentiment               28608 non-null  object             \n",
      " 5   polarity                28608 non-null  float64            \n",
      " 6   subjectivity            28608 non-null  float64            \n",
      " 7   lang                    28608 non-null  object             \n",
      " 8   favorite_count          28608 non-null  int64              \n",
      " 9   retweet_count           28608 non-null  int32              \n",
      " 10  original_author         28608 non-null  object             \n",
      " 11  user_location           28099 non-null  object             \n",
      " 12  screen_count            28608 non-null  int64              \n",
      " 13  followers_count         28608 non-null  int32              \n",
      " 14  friends_count           28608 non-null  int32              \n",
      " 15  possibly_sensitive      22148 non-null  object             \n",
      " 16  hashtags                28608 non-null  object             \n",
      " 17  user_mentions           28608 non-null  int32              \n",
      " 18  place                   2524 non-null   object             \n",
      " 19  place_coord_boundaries  2524 non-null   object             \n",
      " 20  place_country           2524 non-null   object             \n",
      "dtypes: datetime64[ns, UTC](1), float64(2), int32(4), int64(2), object(12)\n",
      "memory usage: 4.4+ MB\n"
     ]
    }
   ],
   "source": [
    "df_africa.info()"
   ]
  },
  {
   "cell_type": "markdown",
   "id": "62ff918c",
   "metadata": {},
   "source": [
    "## Where are the global twitterati?"
   ]
  },
  {
   "cell_type": "code",
   "execution_count": 7,
   "id": "07fb983f",
   "metadata": {},
   "outputs": [
    {
     "data": {
      "text/plain": [
       "Text(0, 0.5, 'Frequency')"
      ]
     },
     "execution_count": 7,
     "metadata": {},
     "output_type": "execute_result"
    },
    {
     "data": {
      "image/png": "[encoded data removed]",
      "text/plain": [
       "<Figure size 432x288 with 1 Axes>"
      ]
     },
     "metadata": {
      "needs_background": "light"
     },
     "output_type": "display_data"
    }
   ],
   "source": [
    "(df_global[\"place_country\"].value_counts())[:10].plot.bar();\n",
    "plt.title(\"Top 10 countries where global tweets are coming from\");\n",
    "plt.xlabel(\"Country\")\n",
    "plt.ylabel(\"Frequency\")"
   ]
  },
  {
   "cell_type": "markdown",
   "id": "72ddc518",
   "metadata": {},
   "source": [
    "Most users discussing Nancy Pelosi's visit to Taiwan are from the USA India and Taiwan. The PR of China also features in the top 10. This makes sense. However the plot above is based on a very small sample size of only ~8% of the tweets."
   ]
  },
  {
   "cell_type": "markdown",
   "id": "aad9fd2d",
   "metadata": {},
   "source": [
    "## Where are the African Twitterati?"
   ]
  },
  {
   "cell_type": "code",
   "execution_count": 8,
   "id": "794750c8",
   "metadata": {},
   "outputs": [
    {
     "data": {
      "text/plain": [
       "Text(0, 0.5, 'Frequency')"
      ]
     },
     "execution_count": 8,
     "metadata": {},
     "output_type": "execute_result"
    },
    {
     "data": {
      "image/png": "[encoded data removed]",
      "text/plain": [
       "<Figure size 432x288 with 1 Axes>"
      ]
     },
     "metadata": {
      "needs_background": "light"
     },
     "output_type": "display_data"
    }
   ],
   "source": [
    "(df_africa[\"place_country\"].value_counts())[:10].plot.bar();\n",
    "plt.title(\"Top 10 countries where global tweets are coming from\");\n",
    "plt.xlabel(\"Country\")\n",
    "plt.ylabel(\"Frequency\")"
   ]
  },
  {
   "cell_type": "markdown",
   "id": "c26ba59e",
   "metadata": {},
   "source": [
    "An overwhelming majority of the place-tagged tweets in the African data set came from Nigeria. This is interesting, and surprising, but I cannot tell why this might be the case"
   ]
  },
  {
   "cell_type": "markdown",
   "id": "4d1b2855",
   "metadata": {},
   "source": [
    "## How big is the audience?"
   ]
  },
  {
   "cell_type": "code",
   "execution_count": 9,
   "id": "ee82c496",
   "metadata": {},
   "outputs": [
    {
     "data": {
      "text/plain": [
       "<AxesSubplot:>"
      ]
     },
     "execution_count": 9,
     "metadata": {},
     "output_type": "execute_result"
    },
    {
     "data": {
      "image/png": "[encoded data removed]",
      "text/plain": [
       "<Figure size 432x288 with 1 Axes>"
      ]
     },
     "metadata": {
      "needs_background": "light"
     },
     "output_type": "display_data"
    }
   ],
   "source": [
    "df_global[\"followers_count\"].plot(kind=\"line\")"
   ]
  },
  {
   "cell_type": "markdown",
   "id": "7533a890",
   "metadata": {},
   "source": [
    "Many of the accounts tweeting have more than 2 million followers corresponding with large various news networks all over the globe discussing the topic"
   ]
  },
  {
   "cell_type": "code",
   "execution_count": 10,
   "id": "804ee45b",
   "metadata": {},
   "outputs": [
    {
     "data": {
      "text/plain": [
       "<AxesSubplot:>"
      ]
     },
     "execution_count": 10,
     "metadata": {},
     "output_type": "execute_result"
    },
    {
     "data": {
      "image/png": "[encoded data removed]",
      "text/plain": [
       "<Figure size 432x288 with 1 Axes>"
      ]
     },
     "metadata": {
      "needs_background": "light"
     },
     "output_type": "display_data"
    }
   ],
   "source": [
    "df_africa[\"followers_count\"].plot(kind=\"line\")"
   ]
  },
  {
   "cell_type": "markdown",
   "id": "efe0b0b8",
   "metadata": {},
   "source": [
    "Many lines visibly repeat at exactly the same numbers suggesting about there were few big participants actively dominating the discussion"
   ]
  },
  {
   "cell_type": "markdown",
   "id": "0c949329",
   "metadata": {},
   "source": [
    "## Preparing data for modeling"
   ]
  },
  {
   "cell_type": "code",
   "execution_count": 12,
   "id": "a4d7f73b",
   "metadata": {},
   "outputs": [],
   "source": [
    "sentence_list = [tweet for tweet in df_global[\"clean_text\"]]\n",
    "word_list = [s.split() for s in sentence_list]\n",
    "id2word = corpora.Dictionary(word_list)\n",
    "word_to_id = id2word\n",
    "corpus = [word_to_id.doc2bow(tweet) for tweet in word_list]\n",
    "\n",
    "id_words = [[(id2word[id], count) for id, count in line] for line in corpus]"
   ]
  },
  {
   "cell_type": "code",
   "execution_count": 13,
   "id": "e94519ee",
   "metadata": {},
   "outputs": [
    {
     "name": "stdout",
     "output_type": "stream",
     "text": [
      "[[('city', 1), ('coast', 1), ('district', 1), ('extra', 1), ('focus', 1), ('gt', 1), ('ilets', 1), ('image', 1), ('in', 1), ('longjing', 1), ('of', 1), ('one', 1), ('random', 1), ('specific', 1), ('taichung', 1), ('ta…', 1), ('the', 1), ('very', 1), ('western', 1), ('zone', 1)]]\n"
     ]
    }
   ],
   "source": [
    "print(id_words[:1])"
   ]
  },
  {
   "cell_type": "markdown",
   "id": "a305b1dc",
   "metadata": {},
   "source": [
    "## Topic Modelling"
   ]
  },
  {
   "cell_type": "code",
   "execution_count": 14,
   "id": "2829069d",
   "metadata": {},
   "outputs": [],
   "source": [
    "# Build model\n",
    "lda_model = gensim.models.ldamodel.LdaModel(\n",
    "    corpus,\n",
    "    id2word = id2word,\n",
    "    num_topics = 5,\n",
    "    random_state = 43,\n",
    "    update_every = 1,\n",
    "    chunksize = 100,\n",
    "    passes = 10,\n",
    "    alpha = 'auto',\n",
    "    per_word_topics = True\n",
    ")"
   ]
  },
  {
   "cell_type": "code",
   "execution_count": 16,
   "id": "22baefbe",
   "metadata": {},
   "outputs": [
    {
     "name": "stdout",
     "output_type": "stream",
     "text": [
      "[(0,\n",
      "  '0.037*\"taiwan\" + 0.035*\"on\" + 0.026*\"of\" + 0.026*\"a\" + 0.020*\"missile\" + '\n",
      "  '0.014*\"china\" + 0.014*\"chinas\" + 0.013*\"in\" + 0.013*\"good\" + '\n",
      "  '0.012*\"august\"'),\n",
      " (1,\n",
      "  '0.043*\"is\" + 0.038*\"taiwan\" + 0.035*\"the\" + 0.028*\"of\" + 0.024*\"this\" + '\n",
      "  '0.019*\"by\" + 0.018*\"it\" + 0.016*\"china\" + 0.015*\"that\" + 0.015*\"and\"'),\n",
      " (2,\n",
      "  '0.094*\"the\" + 0.036*\"taiwan\" + 0.031*\"in\" + 0.028*\"they\" + 0.026*\"military\" '\n",
      "  '+ 0.025*\"of\" + 0.018*\"now\" + 0.018*\"and\" + 0.017*\"just\" + 0.016*\"their\"'),\n",
      " (3,\n",
      "  '0.057*\"to\" + 0.054*\"the\" + 0.036*\"taiwan\" + 0.022*\"china\" + 0.020*\"of\" + '\n",
      "  '0.018*\"us\" + 0.018*\"and\" + 0.017*\"in\" + 0.016*\"a\" + 0.015*\"on\"'),\n",
      " (4,\n",
      "  '0.037*\"island\" + 0.029*\"chinese\" + 0.025*\"taiwan\" + 0.023*\"near\" + '\n",
      "  '0.022*\"said\" + 0.021*\"military\" + 0.020*\"travel\" + 0.019*\"taiwan’s\" + '\n",
      "  '0.019*\"amp\" + 0.018*\"in\"')]\n"
     ]
    }
   ],
   "source": [
    "pprint(lda_model.print_topics())"
   ]
  },
  {
   "cell_type": "markdown",
   "id": "e6ae67b9",
   "metadata": {},
   "source": [
    "## Model Analysis"
   ]
  },
  {
   "cell_type": "code",
   "execution_count": 15,
   "id": "2285caac",
   "metadata": {},
   "outputs": [
    {
     "name": "stdout",
     "output_type": "stream",
     "text": [
      "\n",
      "Perplexity:  -7.608445090230719\n",
      "\n",
      " Ldamodel Coherence Score/Accuracy on Tweets:  0.3477393256015397\n"
     ]
    }
   ],
   "source": [
    "# Compute Perplexity\n",
    "\n",
    "#It's a measure of how good the model is. The lower the better. Perplexity is a negative value\n",
    "print('\\nPerplexity: ', lda_model.log_perplexity(corpus))  \n",
    "doc_lda = lda_model[corpus]\n",
    "\n",
    "\n",
    "# Compute Coherence Score\n",
    "coherence_model_lda = CoherenceModel(model=lda_model, texts=word_list, dictionary=id2word, coherence='c_v')\n",
    "coherence_lda = coherence_model_lda.get_coherence()\n",
    "print('\\n Ldamodel Coherence Score/Accuracy on Tweets: ', coherence_lda)"
   ]
  },
  {
   "cell_type": "markdown",
   "id": "20f8bdee",
   "metadata": {},
   "source": [
    "Low coherence score, suggesting that the model has not performed well in topic modelling"
   ]
  },
  {
   "cell_type": "markdown",
   "id": "e464bf17",
   "metadata": {},
   "source": [
    "## Sentiment analysis"
   ]
  },
  {
   "cell_type": "code",
   "execution_count": null,
   "id": "63375022",
   "metadata": {},
   "outputs": [],
   "source": []
  },
  {
   "cell_type": "code",
   "execution_count": null,
   "id": "a5e6c50e",
   "metadata": {},
   "outputs": [],
   "source": []
  },
  {
   "cell_type": "code",
   "execution_count": null,
   "id": "51791f69",
   "metadata": {},
   "outputs": [],
   "source": []
  }
 ],
 "metadata": {
  "kernelspec": {
   "display_name": "Python 3 (ipykernel)",
   "language": "python",
   "name": "python3"
  },
  "language_info": {
   "codemirror_mode": {
    "name": "ipython",
    "version": 3
   },
   "file_extension": ".py",
   "mimetype": "text/x-python",
   "name": "python",
   "nbconvert_exporter": "python",
   "pygments_lexer": "ipython3",
   "version": "3.9.12"
  }
 },
 "nbformat": 4,
 "nbformat_minor": 5
}
